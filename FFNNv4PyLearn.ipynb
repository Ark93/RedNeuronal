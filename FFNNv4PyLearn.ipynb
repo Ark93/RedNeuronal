{
 "cells": [
  {
   "cell_type": "code",
   "execution_count": 2,
   "metadata": {},
   "outputs": [],
   "source": [
    "import numpy as np\n",
    "import pandas as pd\n",
    "import pybrain\n",
    "import csv\n",
    "import os\n",
    "import time\n",
    "import gc\n",
    "from __future__ import division"
   ]
  },
  {
   "cell_type": "code",
   "execution_count": 3,
   "metadata": {},
   "outputs": [],
   "source": [
    "import matplotlib\n",
    "matplotlib.use('Agg')\n",
    "import matplotlib.pyplot as plt\n",
    "import matplotlib.lines as mlines\n",
    "import matplotlib.pylab as pylab\n",
    "pylab.rcParams['figure.figsize']= 16,5"
   ]
  },
  {
   "cell_type": "code",
   "execution_count": 4,
   "metadata": {},
   "outputs": [],
   "source": [
    "from pybrain import FeedForwardNetwork\n",
    "from pybrain import LinearLayer,SigmoidLayer\n",
    "from pybrain import FullConnection\n",
    "from pybrain.supervised.trainers import BackpropTrainer\n",
    "from pybrain import datasets"
   ]
  },
  {
   "cell_type": "heading",
   "metadata": {},
   "level": 1,
   "source": [
    "Initialize Data Function"
   ]
  },
  {
   "cell_type": "code",
   "execution_count": 5,
   "metadata": {},
   "outputs": [],
   "source": [
    "def read_Data():\n",
    "    \"\"\"\n",
    "    Function to read data from a defined file with no parameter\n",
    "    :return: DataFrame, Time Serie\n",
    "    \"\"\"\n",
    "    rawData = pd.read_csv('resources/Consulta_Banxico.csv', sep=',', encoding='latin1', skiprows=15, skip_blank_lines=True)\n",
    "    Data = rawData.drop(rawData.index[:2])\n",
    "    Data = Data.reset_index(drop = True)\n",
    "    Data.columns = ['Fecha' , 'Tasa de crecimiento Mensual']\n",
    "    TS = pd.Series(Data['Tasa de crecimiento Mensual'].astype(float))\n",
    "    TS.index= Data['Fecha']\n",
    "    return Data,TS"
   ]
  },
  {
   "cell_type": "code",
   "execution_count": 6,
   "metadata": {},
   "outputs": [],
   "source": [
    "def plot_TS(TS):\n",
    "    plt.figure()\n",
    "    TS.plot(style='o-', label = 'Series')\n",
    "    plt.legend()"
   ]
  },
  {
   "cell_type": "code",
   "execution_count": 7,
   "metadata": {},
   "outputs": [],
   "source": [
    "def get_normalization_factors(data):\n",
    "    \"\"\"\n",
    "    Function to get noramlization factors of the data\n",
    "    :param data: values to normalize\n",
    "    :return: mean, standar deviation as std_dvt\n",
    "    \"\"\"\n",
    "    d_mean = np.mean(data)\n",
    "    d_std = np.std(data)\n",
    "    return  d_mean, d_std"
   ]
  },
  {
   "cell_type": "code",
   "execution_count": 8,
   "metadata": {},
   "outputs": [],
   "source": [
    "def denormalize_predictions(d_mean,d_std,Y):\n",
    "    \"\"\"\n",
    "Function to denormalize predictions\n",
    "    :param d_mean: data mean\n",
    "    :param d_std: data standard deviation\n",
    "    :param Y: predictions\n",
    "    :return: denormalized predictions\n",
    "    \"\"\"\n",
    "    Y1 = (Y * d_std) + d_mean\n",
    "    return Y1"
   ]
  },
  {
   "cell_type": "heading",
   "metadata": {},
   "level": 1,
   "source": [
    "Create DataSets Functions"
   ]
  },
  {
   "cell_type": "code",
   "execution_count": 48,
   "metadata": {},
   "outputs": [],
   "source": [
    "def create_DataMatrix_Output(dataFrame,TS, lags):\n",
    "    \"\"\"\n",
    "    Function to create DataMatrix normalized and Output values per validation \n",
    "    :param dataFrame: data readed in read_data()\n",
    "    :param TS: Time Serie\n",
    "    :param lags: number of lags \n",
    "    :return: DataMatrix and Output Values apart\n",
    "    \"\"\"\n",
    "    d_mean,d_std = get_normalization_factors(dataFrame.apply(lambda x :  (float)(x)))\n",
    "    dataMatrix = np.zeros((len(dataFrame)-(lags), lags))\n",
    "    for x in xrange(len(dataFrame)-(lags)):\n",
    "        dataMatrix[x] = dataFrame[x: x+lags]\n",
    "    output = TS[lags:]    \n",
    "    dataMatrix = (dataMatrix-d_mean)/d_std\n",
    "    output = (output - d_mean)/ d_std\n",
    "    return dataMatrix,output,d_mean,d_std"
   ]
  },
  {
   "cell_type": "code",
   "execution_count": 10,
   "metadata": {},
   "outputs": [],
   "source": [
    "def create_DS(dataMatrix,output,lags):\n",
    "    \"\"\"\n",
    "    Function to create DataSet per feed FF Neural Network\n",
    "    :param dataMatrix: DataMatrix\n",
    "    :param output: Outputs values\n",
    "    :param lags: number of lags\n",
    "    :return: DataSet from pybrains\n",
    "    \"\"\"\n",
    "    DS = datasets.SupervisedDataSet(lags, 1)\n",
    "    for x in xrange(len(dataMatrix)):\n",
    "        DS.appendLinked(dataMatrix[x], output[x])\n",
    "    return DS"
   ]
  },
  {
   "cell_type": "code",
   "execution_count": 11,
   "metadata": {},
   "outputs": [],
   "source": [
    "def create_DataSets(Data,lags,TS):\n",
    "    \"\"\"\n",
    "    Function to divide Dataset into Training and Validation DataSets\n",
    "    :rtype: object\n",
    "    :param lags: number of lags\n",
    "    :param TS: Time Serie\n",
    "    :return: Training DS, Validation DS, Validation Ouputs per obtain error metric RMSE\n",
    "    \"\"\"\n",
    "    \n",
    "    dataM, output,d_mean,d_std = create_DataMatrix_Output(Data['Tasa de crecimiento Mensual'],TS,lags)\n",
    "    TrainM = dataM[:(len(dataM)-2*6)]\n",
    "    TrainO = output[:(len(dataM)-2*6)]\n",
    "    ValM = dataM[(len(dataM)-2*6):(len(dataM)-6)]\n",
    "    ValO = output[(len(dataM)-2*6):(len(dataM)-6)]\n",
    "    TrainDS = create_DS(TrainM,TrainO,lags)\n",
    "    ValDS = create_DS(ValM,ValO,lags)\n",
    "    return TrainDS,ValDS,ValO,d_mean,d_std"
   ]
  },
  {
   "cell_type": "heading",
   "metadata": {},
   "level": 1,
   "source": [
    "ANN FUNCTIONS"
   ]
  },
  {
   "cell_type": "code",
   "execution_count": 12,
   "metadata": {},
   "outputs": [],
   "source": [
    "def add_Layers(ffn,inNeurons,hiddenNeurons):\n",
    "    \"\"\"\n",
    "Function to add layers and connections to Neural network\n",
    "    :param ffn: neural network\n",
    "    :param inNeurons: number of neurons of the in layer, same as lags\n",
    "    :param hiddenNeurons: number of neurons of the hidden layer\n",
    "    :return: ffn, neural network\n",
    "    \"\"\"\n",
    "    inLayer = LinearLayer(inNeurons)\n",
    "    hiddenLayer = SigmoidLayer(hiddenNeurons)\n",
    "    outLayer = LinearLayer(1)\n",
    "    ffn.addInputModule(inLayer)\n",
    "    ffn.addModule(hiddenLayer)\n",
    "    ffn.addOutputModule(outLayer)\n",
    "    in_to_hidden = FullConnection(inLayer,hiddenLayer)\n",
    "    hidden_to_out = FullConnection(hiddenLayer,outLayer)\n",
    "    ffn.addConnection(in_to_hidden)\n",
    "    ffn.addConnection(hidden_to_out)\n",
    "    ffn.sortModules()\n",
    "    return ffn"
   ]
  },
  {
   "cell_type": "code",
   "execution_count": 13,
   "metadata": {},
   "outputs": [],
   "source": [
    "def buildFFN(inNeurons,hiddenNeurons):\n",
    "    \"\"\"\n",
    "    Function to create Feedforward Neural Network from pybrain\n",
    "    :param inNeurons: number of neurons of in layer\n",
    "    :param hiddenNeurons: number of neurons of hidden layer\n",
    "    :return: \n",
    "    Feedforward neural network from pybrain\n",
    "    \"\"\"\n",
    "    ffn = FeedForwardNetwork()\n",
    "    ffn = add_Layers(ffn,inNeurons,hiddenNeurons)\n",
    "    ffn.sortModules()\n",
    "    return ffn"
   ]
  },
  {
   "cell_type": "code",
   "execution_count": 14,
   "metadata": {},
   "outputs": [],
   "source": [
    "def trainFNN(ffn,TrainDS,LearnRate, MaxEpochs):\n",
    "    \"\"\"\n",
    "    Function to train Feedforward Neural Network with Train Dataset, Learning rate and max epoch defined\n",
    "    :param ffn: feedforward neural network builded from pybrain\n",
    "    :param TrainDS: Training dataset from pybrain\n",
    "    :param LearnRate: learning rate (float)\n",
    "    :param MaxEpochs: Max number of epochs\n",
    "    :return: FFNN trained\n",
    "    \"\"\"\n",
    "    trainer = BackpropTrainer(ffn, TrainDS,learningrate = LearnRate)\n",
    "    trainer.trainEpochs(epochs = MaxEpochs)\n",
    "   #trainer.trainUntilConvergence(verbose= False,validationProportion= 0.1,continueEpochs= 10)\n",
    "    return ffn"
   ]
  },
  {
   "cell_type": "heading",
   "metadata": {},
   "level": 1,
   "source": [
    "Predictions and Evaluation Functions"
   ]
  },
  {
   "cell_type": "code",
   "execution_count": 15,
   "metadata": {},
   "outputs": [],
   "source": [
    "def get_MSE(predictions, output):\n",
    "    \"\"\"\n",
    "    Function to get MSE from diference between predictions and real value (ouptuts)\n",
    "    :param predictions: predictions made by ffnn\n",
    "    :param output: true values from output values\n",
    "    :return: MSE\n",
    "    \"\"\"\n",
    "    return  (np.sum((output - predictions)**2))/len(predictions)"
   ]
  },
  {
   "cell_type": "code",
   "execution_count": 16,
   "metadata": {},
   "outputs": [],
   "source": [
    "def ValidationTest(ffn, ValDS,output,d_mean,d_std):\n",
    "    \"\"\"\n",
    "    Function to get predictions and MSE\n",
    "    :param d_mean: \n",
    "    :param d_std: \n",
    "    :param ffn: FFNN builded and trained\n",
    "    :param ValDS: Validation DataSet\n",
    "    :param output: Output Values (true values)\n",
    "    :return: predictions(list of lists), MSE\n",
    "    \"\"\"\n",
    "    predictions = ffn.activateOnDataset(ValDS)\n",
    "    predictions = predictions.reshape(1,6)\n",
    "    predictions = denormalize_predictions(d_mean,d_std,predictions)\n",
    "    mse = get_MSE(predictions[0],output)\n",
    "    return predictions,mse"
   ]
  },
  {
   "cell_type": "heading",
   "metadata": {},
   "level": 1,
   "source": [
    "Iteration Functions"
   ]
  },
  {
   "cell_type": "code",
   "execution_count": 17,
   "metadata": {},
   "outputs": [],
   "source": [
    "def init_EpochVar(iterations):\n",
    "    \"\"\"\n",
    "    Function to initialize Variables used in each Epoch\n",
    "    :param iterations: number of iterations (predictions) to make\n",
    "    :return: MSE, SumPredictions, ListPredictions\n",
    "    \"\"\"\n",
    "    MSEsum = 0 \n",
    "    sumPredictions = np.zeros((1,6))\n",
    "    predictionsList = np.zeros((iterations,6))\n",
    "    return MSEsum,sumPredictions,predictionsList"
   ]
  },
  {
   "cell_type": "code",
   "execution_count": 18,
   "metadata": {},
   "outputs": [],
   "source": [
    "def iteration_Func(ffn,TrainDS ,ValDS,ValOutput,lags,hideNeurons,learnR,maxE,iterations):\n",
    "    \"\"\"\n",
    "    Function to made iterations (number of predictions)\n",
    "    :param ffn: FFNN builded\n",
    "    :param TrainDS: Training DataSet\n",
    "    :param ValDS: Validation DataSet\n",
    "    :param ValOutput: Validation Ouputs\n",
    "    :param lags: number of lags\n",
    "    :param learnR: Learning Rate\n",
    "    :param maxE: Number of max Epochs\n",
    "    :param iterations: Number of iterations\n",
    "    :return: MeanPredictions,PredictionsList,meanMSE\n",
    "    \"\"\"\n",
    "    \n",
    "    MSEsum, sumPredictions,PredList = init_EpochVar(iterations)\n",
    "    for epoch in xrange(iterations):\n",
    "        ffn= buildFFN(lags,hideNeurons)\n",
    "        ffn= trainFNN(ffn,TrainDS,learnR,maxE)\n",
    "        predictions,mse = ValidationTest(ffn, ValDS,ValOutput)\n",
    "        MSEsum += mse\n",
    "        sumPredictions += predictions\n",
    "        PredList[epoch] = predictions\n",
    "        del ffn\n",
    "    meanPrediction = sumPredictions/iterations\n",
    "    MSEsum/=iterations\n",
    "    meanMSE = get_MSE(meanPrediction[0],ValOutput)\n",
    "    del MSEsum, sumPredictions,predictions,mse\n",
    "    return meanPrediction,PredList,meanMSE"
   ]
  },
  {
   "cell_type": "code",
   "execution_count": 19,
   "metadata": {},
   "outputs": [],
   "source": [
    "def iteration_Func2(TrainDS ,ValDS,ValOutput, d_mean, d_std , currentSetup,iterations):\n",
    "    \"\"\"\n",
    "    Function to made iterations (number of predictions)\n",
    "    :param d_mean: \n",
    "    :param d_std: \n",
    "    :param TrainDS: Training DataSet\n",
    "    :param ValDS: Validation DataSet\n",
    "    :param ValOutput: Validation Ouputs\n",
    "    :param currentSetup: Current setup of FFN\n",
    "    :param iterations: Number of iterations\n",
    "    :return: MeanPredictions,PredMSE,PredictionsList,meanMSE\n",
    "    \"\"\"\n",
    "    sumMSE, sumPredictions,PredList = init_EpochVar(iterations)\n",
    "    for epoch in xrange(iterations):\n",
    "        ffn= buildFFN(currentSetup[0],currentSetup[1])\n",
    "        ffn= trainFNN(ffn,TrainDS,currentSetup[2],currentSetup[3])\n",
    "        predictions,mse = ValidationTest(ffn, ValDS,ValOutput,d_mean,d_std)\n",
    "        sumPredictions += predictions\n",
    "        sumMSE += mse\n",
    "        PredList[epoch] = predictions\n",
    "    meanPrediction = sumPredictions/iterations\n",
    "    meanMSE = sumMSE / iterations  \n",
    "    PredMSE = get_MSE(meanPrediction[0],ValOutput)\n",
    "    return meanPrediction,PredMSE,PredList,meanMSE"
   ]
  },
  {
   "cell_type": "heading",
   "metadata": {},
   "level": 1,
   "source": [
    "Validation Functions"
   ]
  },
  {
   "cell_type": "code",
   "execution_count": 20,
   "metadata": {},
   "outputs": [],
   "source": [
    "def init_BestVar():\n",
    "    \"\"\"\n",
    "    Function to initialize empty Best variables (FNN, MSE, Mean Predictions and Best list Predictions) \n",
    "    \n",
    "    :return: FNN, Mean Predictions, Best list Predictions to be filled, predicction MSE, mean MSE of prediction list      \n",
    "    \"\"\"\n",
    "    bestFFN = []\n",
    "    bestMSE = 10000000000000000\n",
    "    bestPredicts = []\n",
    "    bestPredList = []\n",
    "    bestFFNmeanMSE = 100000000000\n",
    "    return bestFFN,bestPredicts,bestPredList,bestMSE,bestFFNmeanMSE"
   ]
  },
  {
   "cell_type": "code",
   "execution_count": 21,
   "metadata": {},
   "outputs": [],
   "source": [
    "def SolutionValidation(Predictions,listPred,mse,bestFFN,bestMSE,bestPredictions,bestPredList,lags,hn,LearnR,maxE):\n",
    "    \"\"\"\n",
    "    Function to create and validate solution (FFNN) and choose the best configuration\n",
    "    :param Predictions: Mean Prediction values\n",
    "    :param listPred: List of predictions\n",
    "    :param mse: MSE of Predictions\n",
    "    :param bestFFN: best FFNN setup at this moment\n",
    "    :param bestMSE: MSE from best FFNN setup\n",
    "    :param bestPredictions: Mean Prediction from best FFNN setup\n",
    "    :param bestPredList: List of predictions from best FFNN setup\n",
    "    :param lags: number of lags (and in neurons)\n",
    "    :param hn: number of neurons of hidden layer\n",
    "    :param LearnR: Learning rate\n",
    "    :param maxE: Max number of Epochs\n",
    "    :return: Best MSE, Best FFNN, best Mean Predictions, Best Predictions list\n",
    "    \"\"\"\n",
    "    if(mse < bestMSE):\n",
    "        bestFFN = [lags,hn,LearnR,maxE]\n",
    "        bestMSE = mse\n",
    "        bestPredictions = Predictions\n",
    "        bestPredList = listPred\n",
    "    return bestFFN,bestPredictions,bestMSE,bestPredList"
   ]
  },
  {
   "cell_type": "code",
   "execution_count": 54,
   "metadata": {},
   "outputs": [],
   "source": [
    "def SolutionValidation2(Predictions,listPred,mse,MeanMSE,bestFFN,bestMSE,bestPredictions,bestPredList,bestMeanMSE,currentSetup):\n",
    "    \"\"\"\n",
    "    Function to create and validate solution (FFNN) and choose the best configuration\n",
    "    :param Predictions: Mean Prediction values\n",
    "    :param listPred: List of predictions\n",
    "    :param mse: MSE of Predictions\n",
    "    :param MeanMSE: Mean MSE of prediction list\n",
    "    :param bestFFN: best FFNN setup at this moment\n",
    "    :param bestMSE: MSE from best FFNN setup\n",
    "    :param bestPredictions: Mean Prediction from best FFNN setup\n",
    "    :param bestPredList: List of predictions from best FFNN setup\n",
    "    :param bestMeanMSE: best mean MSE of prediction list\n",
    "    :param currentSetup: current setup of FFNN\n",
    "    :return:  Best FFNN,Best MSE,best Mean Predictions, Best Predictions list, best Mean MSE of prediction list\n",
    "    \"\"\"\n",
    "    if(mse < bestMSE and mse > 0 ):\n",
    "        bestFFN = currentSetup\n",
    "        bestMSE = mse\n",
    "        bestPredictions = Predictions\n",
    "        bestPredList = listPred\n",
    "        bestMeanMSE = MeanMSE\n",
    "    return bestFFN,bestMSE,bestPredictions,bestPredList,bestMeanMSE"
   ]
  },
  {
   "cell_type": "heading",
   "metadata": {},
   "level": 1,
   "source": [
    "Full Function Program for Validation of best ANN"
   ]
  },
  {
   "cell_type": "code",
   "execution_count": 78,
   "metadata": {},
   "outputs": [],
   "source": [
    "def FfnnValidation(ParametersList,iterations):\n",
    "    \"\"\"\n",
    "    Function to search over all combiations of setup to chose best FFNN \n",
    "    :param ParametersList: List of list of parameters to be combined \n",
    "    :param iterations: Number of iterations(predictions) to make\n",
    "    :return: bestFFN,MSE,Predictions,PredictionList,MeanMSE,TS\n",
    "    \"\"\"\n",
    "    start = time.time()\n",
    "    bestFFN,bestPredicts,bestPredList,bestMSE, bestMeanMSE  = init_BestVar()\n",
    "    timestamp= time.strftime(\"%d-%m\") + \"_\" + time.strftime(\"%H-%M\")\n",
    "    folder = \"Results/iteraciones/\"\n",
    "    Data,TS = read_Data()\n",
    "    param1 = 0   \n",
    "    for lags in ParametersList[0]:    \n",
    "        TrainDS,ValDS,ValOutput,d_mean,d_std = create_DataSets(Data,lags,TS)\n",
    "        ValOutput = denormalize_predictions(d_mean,d_std,ValOutput)\n",
    "        name1 = ((str)(param1) + '-')\n",
    "        param1 += 1\n",
    "        param2 = 0\n",
    "        for HiddenNeurons in ParametersList[1]:\n",
    "            name2 = name1 + (str)(param2) + '-'\n",
    "            param2 += 1\n",
    "            param3 = 0\n",
    "            for learnR in ParametersList[2]:\n",
    "                name3 = name2 + (str)(param3) + '-'\n",
    "                param3 += 1\n",
    "                param4 = 0\n",
    "                for maxE in ParametersList[3]:\n",
    "                    name4 = name3 + (str)(param4)\n",
    "                    param4 += 1\n",
    "                    currentSetup = [lags,HiddenNeurons,learnR,maxE]\n",
    "                    Predictions,PredMSE,PredList,meanMSE = iteration_Func2(TrainDS,ValDS,ValOutput,d_mean,d_std,currentSetup,iterations)\n",
    "                    #Predictions = denormalize_predictions(d_mean,d_std,Predictions)\n",
    "                    bestFFN, bestMSE,bestPredicts,bestPredList,bestMeanMSE = SolutionValidation2(Predictions,PredList,PredMSE,meanMSE,bestFFN,bestMSE,bestPredicts,bestPredList,bestMeanMSE,currentSetup)\n",
    "                    #toCSV(folder,name4,bestFFN,bestPredicts,bestMSE,currentSetup,PredMSE,Predictions[0],PredList,meanMSE,TS)\n",
    "                    del currentSetup,Predictions,PredMSE,PredList,meanMSE\n",
    "                    gc.collect()\n",
    "    toCSV2(folder,'best-' + timestamp ,bestFFN,bestMSE,bestPredicts[0],bestPredList,bestMeanMSE,TS)\n",
    "    stop = time.time()\n",
    "    duration = stop - start\n",
    "    return bestFFN, bestMSE, bestPredicts, duration #bestPredList,bestMeanMSE  #,TS"
   ]
  },
  {
   "cell_type": "heading",
   "metadata": {},
   "level": 1,
   "source": [
    "Plot Functions"
   ]
  },
  {
   "cell_type": "code",
   "execution_count": 42,
   "metadata": {},
   "outputs": [],
   "source": [
    "def plot_Solutions(folder,name,PredictsList,Mean,TS):\n",
    "    \"\"\"\n",
    "    Function to Plot List of predictions, mean predictions and Original Time Serie\n",
    "    :param folder: path of file\n",
    "    :param name: name of file\n",
    "    :param PredictsList: List of predictions make\n",
    "    :param Mean: Mean prediction\n",
    "    :param TS: Original Time Serie\n",
    "    :return: matplotlib fig\n",
    "    \"\"\"\n",
    "    fig = plt.figure()\n",
    "    TSValPredictions = TS[len(TS)-13:len(TS)-6].copy()\n",
    "    for x in PredictsList:\n",
    "        TSPredictions = pd.Series(x.astype(float), index = TS.index[len(TS)-12:len(TS)-6])\n",
    "        TSValPredictions[1:] = TSPredictions.copy()\n",
    "        TSValPredictions.plot(style = 'yo-')\n",
    "    TSValOutputs = TS[len(TS)-13:len(TS)-6].copy()\n",
    "    TSValOutputs.plot(style= 'ko-')\n",
    "    TSMean = pd.Series(Mean.astype(float), index = TS.index[len(TS)-12:len(TS)-6])\n",
    "    TSMeanPred = TS[len(TS)-13:len(TS)-6].copy()\n",
    "    TSMeanPred[1:] = TSMean\n",
    "    TSMeanPred.plot(style= 'bo-')\n",
    "    linePred = mlines.Line2D([],[],color='yellow', marker='o',label = 'Predictions')\n",
    "    lineMean = mlines.Line2D([],[],color='blue', marker='o',label = 'Mean Prediction')\n",
    "    lineVal = mlines.Line2D([],[],color='black', marker='o',label = 'True Values')\n",
    "    plt.legend(handles = [linePred,lineMean,lineVal],loc= 1)\n",
    "    fig.savefig(folder + name + \".png\")\n",
    "    del fig\n",
    "    gc.collect()"
   ]
  },
  {
   "cell_type": "code",
   "execution_count": 76,
   "metadata": {},
   "outputs": [],
   "source": [
    "def plot_Solutions2(PredictsList,Mean,TS):\n",
    "    \"\"\"\n",
    "    Function to Plot List of predictions, mean predictions and Original Time Serie\n",
    "    :param folder: path of file\n",
    "    :param name: name of file\n",
    "    :param PredictsList: List of predictions make\n",
    "    :param Mean: Mean prediction\n",
    "    :param TS: Original Time Serie\n",
    "    :return: matplotlib fig\n",
    "    \"\"\"\n",
    "    TSValPredictions = TS[len(TS)-13:len(TS)-6].copy()\n",
    "    for x in PredictsList:\n",
    "        TSPredictions = pd.Series(x.astype(float), index = TS.index[len(TS)-12:len(TS)-6])\n",
    "        TSValPredictions[1:] = TSPredictions.copy()\n",
    "        TSValPredictions.plot(style = 'yo-')\n",
    "    TSValOutputs = TS[len(TS)-13:len(TS)-6].copy()\n",
    "    TSValOutputs.plot(style= 'ko-')\n",
    "    TSMean = pd.Series(Mean.astype(float), index = TS.index[len(TS)-12:len(TS)-6])\n",
    "    TSMeanPred = TS[len(TS)-13:len(TS)-6].copy()\n",
    "    TSMeanPred[1:] = TSMean\n",
    "    TSMeanPred.plot(style= 'bo-')\n",
    "    linePred = mlines.Line2D([],[],color='yellow', marker='o',label = 'Predictions')\n",
    "    lineMean = mlines.Line2D([],[],color='blue', marker='o',label = 'Mean Prediction')\n",
    "    lineVal = mlines.Line2D([],[],color='black', marker='o',label = 'True Values')\n",
    "    plt.legend(handles = [linePred,lineMean,lineVal],loc= 1)\n",
    "    plt.savefig('pruebaSave.png')"
   ]
  },
  {
   "cell_type": "code",
   "execution_count": 44,
   "metadata": {},
   "outputs": [],
   "source": [
    "def plot_predTS(pred,TS):\n",
    "    \"\"\"\n",
    "Function to create a full TS with predictions\n",
    "    :param pred: predictions\n",
    "    :param TS: Time Serie\n",
    "    \"\"\"\n",
    "    fig = plt.figure()\n",
    "    TS= TS[:-6]\n",
    "    pred = pd.Series(pred.astype(float), index = TS.index[-6:]) \n",
    "    TSpred = TS.copy()\n",
    "    TSpred[-6:] = pred\n",
    "    TS.plot(style='ko-')\n",
    "    TSpred.plot()\n",
    "    plt.legend()"
   ]
  },
  {
   "cell_type": "heading",
   "metadata": {},
   "level": 1,
   "source": [
    "Save Results Function"
   ]
  },
  {
   "cell_type": "code",
   "execution_count": 83,
   "metadata": {},
   "outputs": [],
   "source": [
    "def toCSV(folder,name,best_ffn,best_pred,best_mse ,ffnn,mse,pred,list,meanMSE,TS):\n",
    "    if not os.path.isdir(folder):\n",
    "        os.makedirs(folder)\n",
    "    with open(folder + name + '.csv','w+') as csvfile:\n",
    "        spamwriter= csv.writer(csvfile,delimiter=',')\n",
    "        spamwriter.writerow(['Best ANN configuration: ',best_ffn])\n",
    "        spamwriter.writerow(['Best predictions'])\n",
    "        spamwriter.writerow(best_pred)\n",
    "        spamwriter.writerow(['Best MSE:' , best_mse])\n",
    "        spamwriter.writerow(['ANN configuration: ',ffnn])\n",
    "        spamwriter.writerow(['predictions'])\n",
    "        spamwriter.writerow(pred)\n",
    "        spamwriter.writerow(['MSE:' , mse])\n",
    "        spamwriter.writerow(['MeanMSE:' , meanMSE])\n",
    "        spamwriter.writerow(['Prediction List'])\n",
    "        spamwriter.writerows(list)\n",
    "        csvfile.close()        \n",
    "    #plot_Solutions(folder,name,list,pred,TS)"
   ]
  },
  {
   "cell_type": "code",
   "execution_count": 82,
   "metadata": {},
   "outputs": [],
   "source": [
    "def toCSV2(folder,name,ffnn,mse,pred,list,meanMSE,TS):\n",
    "    if not os.path.isdir(folder):\n",
    "        os.makedirs(folder)\n",
    "    with open(folder + name + '.csv','w+') as csvfile:\n",
    "        spamwriter= csv.writer(csvfile,delimiter=',')\n",
    "        spamwriter.writerow(['ANN configuration: ',ffnn])\n",
    "        spamwriter.writerow(['predictions'])\n",
    "        spamwriter.writerow(pred)\n",
    "        spamwriter.writerow(['MSE:' , mse])\n",
    "        spamwriter.writerow(['MeanMSE:' , meanMSE])\n",
    "        spamwriter.writerow(['Prediction List'])\n",
    "        spamwriter.writerows(list)\n",
    "        csvfile.close()\n",
    "    #plot_Solutions(folder,name,list,pred,TS)"
   ]
  },
  {
   "cell_type": "code",
   "execution_count": 81,
   "metadata": {},
   "outputs": [],
   "source": [
    "def writeIterations(listPredTuple):\n",
    "    folder = \"Results/iteraciones/\" \n",
    "    with open(folder + 'predicions' + '.csv','w+') as csvfile:\n",
    "        spamwriter= csv.writer(csvfile,delimiter=',')\n",
    "        spamwriter.writerow(['Param1','Param2','Param3','Param4','Pred1','Pred2','Pred3','Pred4','Pred5','Pred6','MSE','Time'])\n",
    "        for x in listPredTuple:\n",
    "                    y = np.append(np.append(x[0],x[2]),np.append(x[1],x[3]))\n",
    "                    spamwriter.writerow(y)\n",
    "    csvfile.close()"
   ]
  },
  {
   "cell_type": "heading",
   "metadata": {},
   "level": 1,
   "source": [
    "Testing"
   ]
  },
  {
   "cell_type": "heading",
   "metadata": {},
   "level": 1,
   "source": [
    "Test all functions function"
   ]
  },
  {
   "cell_type": "code",
   "execution_count": 29,
   "metadata": {},
   "outputs": [],
   "source": [
    "#ParameterList = [[11,12,13],[3,4,5,7],[0.2,0.05,0.1,0.2],[1,2,3,5,10,20,50]]"
   ]
  },
  {
   "cell_type": "code",
   "execution_count": 116,
   "metadata": {},
   "outputs": [],
   "source": [
    "#ffnn,mse,pred,list,meanMSE,TS = FfnnValidation(ParameterList,50)"
   ]
  },
  {
   "cell_type": "code",
   "execution_count": 1,
   "metadata": {},
   "outputs": [],
   "source": [
    "#parameterList = [[12,13],[5,7,9,11,13,15],[0.1,0.15,0.2,0.25,0.3,0.35,0.4],[20,50,75]]\n",
    "#ffnn,mse,pred,list,meanMSE,TS = FfnnValidation(ParameterList,10)"
   ]
  },
  {
   "cell_type": "code",
   "execution_count": 100,
   "metadata": {},
   "outputs": [],
   "source": [
    "ParameterList = [[12,13],[9,11,13],[0.15,0.2,0.25],[20,50]]"
   ]
  },
  {
   "cell_type": "code",
   "execution_count": 101,
   "metadata": {},
   "outputs": [],
   "source": [
    "listPredTuple = list()\n",
    "for x in range(50):\n",
    "   bestPredtuple = FfnnValidation(ParameterList,1)\n",
    "   listPredTuple.append(bestPredtuple)\n",
    "writeIterations(listPredTuple)"
   ]
  },
  {
   "cell_type": "code",
   "execution_count": 85,
   "metadata": {},
   "outputs": [
    {
     "data": {
      "text/plain": [
       "([2, 1, 0.25, 1],\n 15.281972494176335,\n array([[ 0.77865736,  0.71858935,  0.98021567,  0.95479081,  0.89323845,\n          0.8968814 ]]),\n 0.5789999961853027)"
      ]
     },
     "execution_count": 85,
     "output_type": "execute_result",
     "metadata": {}
    }
   ],
   "source": [
    ""
   ]
  }
 ],
 "metadata": {},
 "nbformat": 4,
 "nbformat_minor": 0
}