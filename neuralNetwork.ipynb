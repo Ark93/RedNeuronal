{
 "cells": [
  {
   "cell_type": "heading",
   "metadata": {},
   "level": 3,
   "source": [
    "File to create an neural network capable of predict time series\n",
    "using PANDAS as toolkit Develop by Santos Alberto Banuelos Solis\n"
   ]
  },
  {
   "cell_type": "code",
   "execution_count": 1,
   "metadata": {},
   "outputs": [],
   "source": [
    "import numpy as np\n",
    "import pandas as pd"
   ]
  },
  {
   "cell_type": "code",
   "execution_count": 2,
   "metadata": {},
   "outputs": [
    {
     "data": {
      "text/html": [
       "<div>\n",
       "<table border=\"1\" class=\"dataframe\">\n",
       "  <thead>\n",
       "    <tr style=\"text-align: right;\">\n",
       "      <th></th>\n",
       "      <th>Tipo de información</th>\n",
       "      <th>Tasa de crecimiento mensual</th>\n",
       "      <th>Tasa de crecimiento mensual.1</th>\n",
       "      <th>Tasa de crecimiento mensual.2</th>\n",
       "      <th>Tasa de crecimiento mensual.3</th>\n",
       "      <th>Tasa de crecimiento mensual.4</th>\n",
       "      <th>Tasa de crecimiento mensual.5</th>\n",
       "      <th>Tasa de crecimiento mensual.6</th>\n",
       "      <th>Tasa de crecimiento mensual.7</th>\n",
       "      <th>Tasa de crecimiento mensual.8</th>\n",
       "      <th>Tasa de crecimiento mensual.9</th>\n",
       "      <th>Tasa de crecimiento mensual.10</th>\n",
       "      <th>Tasa de crecimiento mensual.11</th>\n",
       "      <th>Tasa de crecimiento mensual.12</th>\n",
       "      <th>Tasa de crecimiento mensual.13</th>\n",
       "      <th>Tasa de crecimiento mensual.14</th>\n",
       "    </tr>\n",
       "  </thead>\n",
       "  <tbody>\n",
       "    <tr>\n",
       "      <th>0</th>\n",
       "      <td>Fecha</td>\n",
       "      <td>SF4782</td>\n",
       "      <td>SF65016</td>\n",
       "      <td>SF65017</td>\n",
       "      <td>SF65018</td>\n",
       "      <td>SF65019</td>\n",
       "      <td>SF65020</td>\n",
       "      <td>SF65021</td>\n",
       "      <td>SF65022</td>\n",
       "      <td>SF4783</td>\n",
       "      <td>SF4784</td>\n",
       "      <td>SF4785</td>\n",
       "      <td>SF4786</td>\n",
       "      <td>SF4787</td>\n",
       "      <td>SF4788</td>\n",
       "      <td>SF4789</td>\n",
       "    </tr>\n",
       "    <tr>\n",
       "      <th>1</th>\n",
       "      <td>Ene 1981</td>\n",
       "      <td>N/E</td>\n",
       "      <td>N/E</td>\n",
       "      <td>N/E</td>\n",
       "      <td>N/E</td>\n",
       "      <td>N/E</td>\n",
       "      <td>N/E</td>\n",
       "      <td>N/E</td>\n",
       "      <td>N/E</td>\n",
       "      <td>N/E</td>\n",
       "      <td>N/E</td>\n",
       "      <td>N/E</td>\n",
       "      <td>N/E</td>\n",
       "      <td>N/E</td>\n",
       "      <td>N/E</td>\n",
       "      <td>N/E</td>\n",
       "    </tr>\n",
       "  </tbody>\n",
       "</table>\n",
       "</div>"
      ]
     },
     "execution_count": 2,
     "output_type": "execute_result",
     "metadata": {}
    }
   ],
   "source": [
    "rawData = pd.read_csv('resources/Consulta_Banxico.csv', sep=',', encoding='latin1', skiprows=10, skip_blank_lines=True)\n",
    "column = rawData.columns.values[0:2]\n",
    "rawData[0:2]"
   ]
  },
  {
   "cell_type": "code",
   "execution_count": 3,
   "metadata": {},
   "outputs": [],
   "source": [
    "rawData = rawData.rename(columns={column[0] : 'Fecha'})\n",
    "rawData.drop(rawData.index[:1], inplace=True)\n",
    "rawData[0:2]\n",
    "columns = rawData.columns.values[0:2]"
   ]
  },
  {
   "cell_type": "code",
   "execution_count": 4,
   "metadata": {},
   "outputs": [
    {
     "data": {
      "text/html": [
       "<div>\n",
       "<table border=\"1\" class=\"dataframe\">\n",
       "  <thead>\n",
       "    <tr style=\"text-align: right;\">\n",
       "      <th></th>\n",
       "      <th>Fecha</th>\n",
       "      <th>Tasa de crecimiento mensual</th>\n",
       "    </tr>\n",
       "  </thead>\n",
       "  <tbody>\n",
       "    <tr>\n",
       "      <th>1</th>\n",
       "      <td>Ene 1981</td>\n",
       "      <td>N/E</td>\n",
       "    </tr>\n",
       "    <tr>\n",
       "      <th>2</th>\n",
       "      <td>Feb 1981</td>\n",
       "      <td>-4.76</td>\n",
       "    </tr>\n",
       "  </tbody>\n",
       "</table>\n",
       "</div>"
      ]
     },
     "execution_count": 4,
     "output_type": "execute_result",
     "metadata": {}
    }
   ],
   "source": [
    "data = rawData[columns]\n",
    "data[0:2]"
   ]
  },
  {
   "cell_type": "code",
   "execution_count": 7,
   "metadata": {},
   "outputs": [
    {
     "data": {
      "text/html": [
       "<div>\n",
       "<table border=\"1\" class=\"dataframe\">\n",
       "  <thead>\n",
       "    <tr style=\"text-align: right;\">\n",
       "      <th></th>\n",
       "      <th>Fecha</th>\n",
       "      <th>Tasa de crecimiento mensual</th>\n",
       "    </tr>\n",
       "  </thead>\n",
       "  <tbody>\n",
       "    <tr>\n",
       "      <th>2</th>\n",
       "      <td>Feb 1981</td>\n",
       "      <td>-4.76</td>\n",
       "    </tr>\n",
       "    <tr>\n",
       "      <th>3</th>\n",
       "      <td>Mar 1981</td>\n",
       "      <td>-4.29</td>\n",
       "    </tr>\n",
       "  </tbody>\n",
       "</table>\n",
       "</div>"
      ]
     },
     "execution_count": 7,
     "output_type": "execute_result",
     "metadata": {}
    }
   ],
   "source": [
    "data[0:10]"
   ]
  },
  {
   "cell_type": "code",
   "execution_count": null,
   "metadata": {},
   "outputs": [],
   "source": [
    ""
   ]
  }
 ],
 "metadata": {},
 "nbformat": 4,
 "nbformat_minor": 0
}