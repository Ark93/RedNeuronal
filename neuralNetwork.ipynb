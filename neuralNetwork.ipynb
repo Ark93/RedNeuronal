{
 "cells": [
  {
   "cell_type": "heading",
   "metadata": {},
   "level": 3,
   "source": [
    "File to create an neural network capable of predict time series\n",
    "using PANDAS as toolkit Develop by Santos Alberto Banuelos Solis\n"
   ]
  },
  {
   "cell_type": "code",
   "execution_count": 1,
   "metadata": {},
   "outputs": [],
   "source": [
    "import numpy as np\n",
    "import pandas as pd\n",
    "import matplotlib.pyplot as plt\n",
    "%matplotlib inline\n",
    "import matplotlib.pylab as pylab\n",
    "pylab.rcParams['figure.figsize']= 16,10"
   ]
  },
  {
   "cell_type": "code",
   "execution_count": 2,
   "metadata": {},
   "outputs": [
    {
     "data": {
      "text/html": [
       "<div>\n",
       "<table border=\"1\" class=\"dataframe\">\n",
       "  <thead>\n",
       "    <tr style=\"text-align: right;\">\n",
       "      <th></th>\n",
       "      <th>Tipo de información</th>\n",
       "      <th>Tasa de crecimiento mensual</th>\n",
       "      <th>Tasa de crecimiento mensual.1</th>\n",
       "      <th>Tasa de crecimiento mensual.2</th>\n",
       "      <th>Tasa de crecimiento mensual.3</th>\n",
       "      <th>Tasa de crecimiento mensual.4</th>\n",
       "      <th>Tasa de crecimiento mensual.5</th>\n",
       "      <th>Tasa de crecimiento mensual.6</th>\n",
       "      <th>Tasa de crecimiento mensual.7</th>\n",
       "      <th>Tasa de crecimiento mensual.8</th>\n",
       "      <th>Tasa de crecimiento mensual.9</th>\n",
       "      <th>Tasa de crecimiento mensual.10</th>\n",
       "      <th>Tasa de crecimiento mensual.11</th>\n",
       "      <th>Tasa de crecimiento mensual.12</th>\n",
       "      <th>Tasa de crecimiento mensual.13</th>\n",
       "      <th>Tasa de crecimiento mensual.14</th>\n",
       "    </tr>\n",
       "  </thead>\n",
       "  <tbody>\n",
       "    <tr>\n",
       "      <th>0</th>\n",
       "      <td>Fecha</td>\n",
       "      <td>SF4782</td>\n",
       "      <td>SF65016</td>\n",
       "      <td>SF65017</td>\n",
       "      <td>SF65018</td>\n",
       "      <td>SF65019</td>\n",
       "      <td>SF65020</td>\n",
       "      <td>SF65021</td>\n",
       "      <td>SF65022</td>\n",
       "      <td>SF4783</td>\n",
       "      <td>SF4784</td>\n",
       "      <td>SF4785</td>\n",
       "      <td>SF4786</td>\n",
       "      <td>SF4787</td>\n",
       "      <td>SF4788</td>\n",
       "      <td>SF4789</td>\n",
       "    </tr>\n",
       "  </tbody>\n",
       "</table>\n",
       "</div>"
      ]
     },
     "execution_count": 2,
     "output_type": "execute_result",
     "metadata": {}
    }
   ],
   "source": [
    "rawData = pd.read_csv('resources/Consulta_Banxico.csv', sep=',', encoding='latin1', skiprows=10, skip_blank_lines=True)\n",
    "column = rawData.columns.values\n",
    "rawData[0:1]"
   ]
  },
  {
   "cell_type": "code",
   "execution_count": 3,
   "metadata": {},
   "outputs": [],
   "source": [
    "rawData = rawData.rename(columns={column[0] : 'Fecha'})\n",
    "rawData.drop(rawData.index[:2], inplace=True)\n",
    "rawData[0:2]\n",
    "columns = rawData.columns.values[:2]"
   ]
  },
  {
   "cell_type": "code",
   "execution_count": 4,
   "metadata": {},
   "outputs": [
    {
     "name": "stderr",
     "output_type": "stream",
     "text": [
      "C:\\Anaconda2\\lib\\site-packages\\ipykernel\\__main__.py:4: SettingWithCopyWarning: \nA value is trying to be set on a copy of a slice from a DataFrame.\nTry using .loc[row_indexer,col_indexer] = value instead\n\nSee the caveats in the documentation: http://pandas.pydata.org/pandas-docs/stable/indexing.html#indexing-view-versus-copy\n"
     ]
    }
   ],
   "source": [
    "#create a time serie to add as index \n",
    "time_serie = pd.date_range('February 1981', 'November 2015', freq=\"M\")\n",
    "data = rawData[columns]\n",
    "data['Fecha'] = time_serie\n",
    "data = data.reset_index(drop = True)"
   ]
  },
  {
   "cell_type": "code",
   "execution_count": 5,
   "metadata": {},
   "outputs": [],
   "source": [
    "data['Tasa de crecimiento mensual'] = data['Tasa de crecimiento mensual'].astype(float)"
   ]
  },
  {
   "cell_type": "code",
   "execution_count": 24,
   "metadata": {},
   "outputs": [],
   "source": [
    "plt.plot(data['Fecha'],data['Tasa de crecimiento mensual'], '-o')\n"
   ]
  },
  {
   "cell_type": "code",
   "execution_count": null,
   "metadata": {},
   "outputs": [],
   "source": [
    ""
   ]
  },
  {
   "cell_type": "code",
   "execution_count": null,
   "metadata": {},
   "outputs": [],
   "source": [
    ""
   ]
  }
 ],
 "metadata": {},
 "nbformat": 4,
 "nbformat_minor": 0
}